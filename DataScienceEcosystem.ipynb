{
 "cells": [
  {
   "attachments": {},
   "cell_type": "markdown",
   "id": "b3ec3339",
   "metadata": {},
   "source": [
    "# Data Science Tools and Ecosystem "
   ]
  },
  {
   "attachments": {},
   "cell_type": "markdown",
   "id": "969ee5c9",
   "metadata": {},
   "source": [
    "### In this notebook, Data Science Tools and Ecosystem are summarized."
   ]
  },
  {
   "attachments": {},
   "cell_type": "markdown",
   "id": "e8fd5039",
   "metadata": {},
   "source": [
    "**Objectives**: \n",
    "* Popular Languages for Data Science\n",
    "* Commonly used libraries\n",
    "* Data Science Tools\n",
    "* Arithematic Examples"
   ]
  },
  {
   "attachments": {},
   "cell_type": "markdown",
   "id": "803b2bb1",
   "metadata": {},
   "source": [
    "##### Some of the popular languages that Data Scientists use are:"
   ]
  },
  {
   "attachments": {},
   "cell_type": "markdown",
   "id": "81ca9b10",
   "metadata": {},
   "source": [
    "1. Python\n",
    "2. R\n",
    "3. Scala\n",
    "4. SQL\n",
    "5. Java"
   ]
  },
  {
   "attachments": {},
   "cell_type": "markdown",
   "id": "80f6d4ca",
   "metadata": {},
   "source": [
    "#### Some of the commonly used libraries used by Data Scientists include:"
   ]
  },
  {
   "attachments": {},
   "cell_type": "markdown",
   "id": "83f3f784",
   "metadata": {},
   "source": [
    "1. NumPy\n",
    "2. Pandas\n",
    "3. Scikit-learn\n",
    "4. TensorFlow\n",
    "5. PyTorch"
   ]
  },
  {
   "attachments": {},
   "cell_type": "markdown",
   "id": "d1fd0d48",
   "metadata": {},
   "source": [
    "| Data Science Tools | \n",
    "| -------------|\n",
    "| Jupyter Notebooks | \n",
    "| Anaconda | \n",
    "| Visual Studio Code | \n"
   ]
  },
  {
   "attachments": {},
   "cell_type": "markdown",
   "id": "9f5e4a35",
   "metadata": {},
   "source": [
    "### Below are a few examples of evaluating arithmetic expressions in Python"
   ]
  },
  {
   "cell_type": "code",
   "execution_count": 3,
   "id": "3cc00145",
   "metadata": {},
   "outputs": [
    {
     "data": {
      "text/plain": [
       "17"
      ]
     },
     "execution_count": 3,
     "metadata": {},
     "output_type": "execute_result"
    }
   ],
   "source": [
    "#This a simple arithmetic expression to mutiply then add integers\n",
    "(3*4)+5"
   ]
  },
  {
   "cell_type": "code",
   "execution_count": 7,
   "id": "c06618e8",
   "metadata": {},
   "outputs": [
    {
     "name": "stdout",
     "output_type": "stream",
     "text": [
      "3.33 hours and  20  mins\n"
     ]
    }
   ],
   "source": [
    "#This will convert 200 minutes to hours by diving by 60\n",
    "print(\"{:.2f}\".format(200/60),\"hours and \",(200%60),\" mins\")"
   ]
  },
  {
   "attachments": {},
   "cell_type": "markdown",
   "id": "030ca093",
   "metadata": {},
   "source": [
    "## Author\n",
    "Sahil Raj Singh"
   ]
  }
 ],
 "metadata": {
  "kernelspec": {
   "display_name": "Python 3 (ipykernel)",
   "language": "python",
   "name": "python3"
  },
  "language_info": {
   "codemirror_mode": {
    "name": "ipython",
    "version": 3
   },
   "file_extension": ".py",
   "mimetype": "text/x-python",
   "name": "python",
   "nbconvert_exporter": "python",
   "pygments_lexer": "ipython3",
   "version": "3.10.9"
  }
 },
 "nbformat": 4,
 "nbformat_minor": 5
}
